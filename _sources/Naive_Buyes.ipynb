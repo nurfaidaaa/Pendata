{
  "nbformat": 4,
  "nbformat_minor": 0,
  "metadata": {
    "colab": {
      "provenance": []
    },
    "kernelspec": {
      "name": "python3",
      "display_name": "Python 3"
    },
    "language_info": {
      "name": "python"
    }
  },
  "cells": [
    {
      "cell_type": "markdown",
      "source": [
        "# Algoritma Naive Buyes pada Data Iris"
      ],
      "metadata": {
        "id": "U7CXQ6Kj5ykX"
      }
    },
    {
      "cell_type": "code",
      "execution_count": null,
      "metadata": {
        "id": "oYbdWk_OqDtN"
      },
      "outputs": [],
      "source": [
        "import numpy as np\n",
        "import matplotlib.pyplot as plt\n",
        "import pandas as pd"
      ]
    },
    {
      "cell_type": "code",
      "source": [
        "dataset = pd.read_csv('https://raw.githubusercontent.com/mk-gurucharan/Classification/master/IrisDataset.csv')\n",
        "X = dataset.iloc[:,:4].values\n",
        "y = dataset['species'].values\n",
        "dataset.head(5)"
      ],
      "metadata": {
        "id": "3Gg9yN4uqser"
      },
      "execution_count": null,
      "outputs": []
    },
    {
      "cell_type": "code",
      "source": [
        "from sklearn.model_selection import train_test_split\n",
        "X_train, X_test, y_train, y_test = train_test_split(X, y, test_size = 0.2)"
      ],
      "metadata": {
        "id": "jQvQ_Df8q3WQ"
      },
      "execution_count": null,
      "outputs": []
    },
    {
      "cell_type": "code",
      "source": [
        "from sklearn.naive_bayes import GaussianNB\n",
        "classifier = GaussianNB()\n",
        "classifier.fit(X_train, y_train)"
      ],
      "metadata": {
        "id": "K6_P89dGq4VF"
      },
      "execution_count": null,
      "outputs": []
    },
    {
      "cell_type": "code",
      "source": [
        "y_pred = classifier.predict(X_test) \n",
        "y_pred"
      ],
      "metadata": {
        "id": "S7ES-I-9q_7O"
      },
      "execution_count": null,
      "outputs": []
    },
    {
      "cell_type": "code",
      "source": [
        "from sklearn.metrics import confusion_matrix\n",
        "cm = confusion_matrix(y_test, y_pred)\n",
        "from sklearn.metrics import accuracy_score \n",
        "print (\"Accuracy : \", accuracy_score(y_test, y_pred))\n",
        "cm\n",
        ">>Accuracy :  0.9666666666666667\n",
        ">>array([[14,  0,  0],\n",
        "       [ 0,  7,  0],\n",
        "       [ 0,  1,  8]])"
      ],
      "metadata": {
        "id": "ZJpn4fszrE9D"
      },
      "execution_count": null,
      "outputs": []
    },
    {
      "cell_type": "code",
      "source": [
        "df = pd.DataFrame({'Real Values':y_test, 'Predicted Values':y_pred})\n",
        "df\n",
        ">> \n",
        "Real Values   Predicted Values\n",
        "setosa        setosa\n",
        "setosa        setosa\n",
        "virginica     virginica\n",
        "versicolor    versicolor\n",
        "setosa        setosa\n",
        "setosa        setosa\n",
        "...  ...   ...  ...  ...\n",
        "virginica     versicolor\n",
        "virginica     virginica\n",
        "setosa        setosa\n",
        "setosa        setosa\n",
        "versicolor    versicolor\n",
        "versicolor    versicolor"
      ],
      "metadata": {
        "id": "iCrS48kHrJZV"
      },
      "execution_count": null,
      "outputs": []
    }
  ]
}