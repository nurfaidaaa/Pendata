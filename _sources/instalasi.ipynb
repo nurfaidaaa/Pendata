{
  "nbformat": 4,
  "nbformat_minor": 0,
  "metadata": {
    "colab": {
      "provenance": []
    },
    "kernelspec": {
      "name": "python3",
      "display_name": "Python 3"
    },
    "language_info": {
      "name": "python"
    }
  },
  "cells": [
    {
      "cell_type": "markdown",
      "source": [
        "# Instalasi Jupyter Book"
      ],
      "metadata": {
        "id": "e3TC5dL8YLI3"
      }
    },
    {
      "cell_type": "code",
      "execution_count": 1,
      "metadata": {
        "id": "4bs9DbOu4hrr"
      },
      "outputs": [],
      "source": [
        "%%capture\n",
        "!pip install jupyter-book #semuanya di run ketika ada update, kecuali create "
      ]
    },
    {
      "cell_type": "code",
      "source": [
        "from google.colab import drive\n",
        "drive.mount('/content/drive')"
      ],
      "metadata": {
        "colab": {
          "base_uri": "https://localhost:8080/"
        },
        "id": "ML7ubHtd4rEV",
        "outputId": "31038bc5-61b1-48c6-e240-3fad4e0780c3"
      },
      "execution_count": null,
      "outputs": [
        {
          "output_type": "stream",
          "name": "stdout",
          "text": [
            "Mounted at /content/drive\n"
          ]
        }
      ]
    },
    {
      "cell_type": "code",
      "source": [
        "%cd /content/drive/MyDrive/Pendata"
      ],
      "metadata": {
        "colab": {
          "base_uri": "https://localhost:8080/"
        },
        "id": "TB4zP_U14s69",
        "outputId": "4dacd3bb-9830-4821-a2e2-252b74a08301"
      },
      "execution_count": null,
      "outputs": [
        {
          "output_type": "stream",
          "name": "stdout",
          "text": [
            "/content/drive/MyDrive/Pendata\n"
          ]
        }
      ]
    },
    {
      "cell_type": "code",
      "source": [
        "!pwd"
      ],
      "metadata": {
        "colab": {
          "base_uri": "https://localhost:8080/"
        },
        "id": "7WgXy0t24uw8",
        "outputId": "6585aa87-1b58-43fb-9474-f3ebe0cfd7d5"
      },
      "execution_count": null,
      "outputs": [
        {
          "output_type": "stream",
          "name": "stdout",
          "text": [
            "/content/drive/MyDrive/Pendata\n"
          ]
        }
      ]
    },
    {
      "cell_type": "code",
      "source": [
        "!jupyter-book create tugas #jangan run "
      ],
      "metadata": {
        "colab": {
          "base_uri": "https://localhost:8080/"
        },
        "id": "rct3EdGB4yLz",
        "outputId": "f01ebe28-0463-4684-e87d-19d653270e81"
      },
      "execution_count": null,
      "outputs": [
        {
          "output_type": "stream",
          "name": "stdout",
          "text": [
            "\n",
            "\u001b[92m===============================================================================\u001b[0m\n",
            "\n",
            "Your book template can be found at\n",
            "\n",
            "    tugas/\n",
            "\n",
            "\u001b[92m===============================================================================\u001b[0m\n",
            "\n"
          ]
        }
      ]
    },
    {
      "cell_type": "code",
      "source": [
        "!jupyter-book build tugas #run kalo ada update"
      ],
      "metadata": {
        "colab": {
          "base_uri": "https://localhost:8080/"
        },
        "id": "bG0z0_cL40cH",
        "outputId": "db7fa4f2-3174-4a42-e8b6-14b4b78f8e94"
      },
      "execution_count": null,
      "outputs": [
        {
          "output_type": "stream",
          "name": "stdout",
          "text": [
            "\u001b[32m\u001b[1mRunning Jupyter-Book v0.15.1\u001b[0m\n",
            "Traceback (most recent call last):\n",
            "  File \"/usr/local/lib/python3.10/dist-packages/sphinx_external_toc/parsing.py\", line 268, in _parse_doc_item\n",
            "    doc_item = Document(\n",
            "  File \"<string>\", line 6, in __init__\n",
            "  File \"/usr/local/lib/python3.10/dist-packages/sphinx_external_toc/api.py\", line 96, in __post_init__\n",
            "    validate_fields(self)\n",
            "  File \"/usr/local/lib/python3.10/dist-packages/sphinx_external_toc/_compat.py\", line 44, in validate_fields\n",
            "    field.metadata[\"validator\"](inst, field, getattr(inst, field.name))\n",
            "  File \"/usr/local/lib/python3.10/dist-packages/sphinx_external_toc/_compat.py\", line 64, in _validator\n",
            "    raise TypeError(\n",
            "TypeError: 'docname' must be <class 'str'> (got None that is a <class 'NoneType'>).\n",
            "\n",
            "The above exception was the direct cause of the following exception:\n",
            "\n",
            "Traceback (most recent call last):\n",
            "  File \"/usr/local/lib/python3.10/dist-packages/jupyter_book/cli/main.py\", line 242, in build\n",
            "    parse_toc_yaml(toc)\n",
            "  File \"/usr/local/lib/python3.10/dist-packages/sphinx_external_toc/parsing.py\", line 90, in parse_toc_yaml\n",
            "    return parse_toc_data(data)\n",
            "  File \"/usr/local/lib/python3.10/dist-packages/sphinx_external_toc/parsing.py\", line 125, in parse_toc_data\n",
            "    _parse_docs_list(docs_list, site_map, defaults, depth=1, file_format=file_format)\n",
            "  File \"/usr/local/lib/python3.10/dist-packages/sphinx_external_toc/parsing.py\", line 315, in _parse_docs_list\n",
            "    child_item, child_docs_list = _parse_doc_item(\n",
            "  File \"/usr/local/lib/python3.10/dist-packages/sphinx_external_toc/parsing.py\", line 273, in _parse_doc_item\n",
            "    raise MalformedError(f\"doc validation @ '{path}': {exc_arg}\") from exc\n",
            "sphinx_external_toc.parsing.MalformedError: doc validation @ '//chapters/3/': 'docname' must be <class 'str'> (got None that is a <class 'NoneType'>).\n",
            "\n",
            "During handling of the above exception, another exception occurred:\n",
            "\n",
            "Traceback (most recent call last):\n",
            "  File \"/usr/local/bin/jupyter-book\", line 8, in <module>\n",
            "    sys.exit(main())\n",
            "  File \"/usr/local/lib/python3.10/dist-packages/click/core.py\", line 1130, in __call__\n",
            "    return self.main(*args, **kwargs)\n",
            "  File \"/usr/local/lib/python3.10/dist-packages/click/core.py\", line 1055, in main\n",
            "    rv = self.invoke(ctx)\n",
            "  File \"/usr/local/lib/python3.10/dist-packages/click/core.py\", line 1657, in invoke\n",
            "    return _process_result(sub_ctx.command.invoke(sub_ctx))\n",
            "  File \"/usr/local/lib/python3.10/dist-packages/click/core.py\", line 1404, in invoke\n",
            "    return ctx.invoke(self.callback, **ctx.params)\n",
            "  File \"/usr/local/lib/python3.10/dist-packages/click/core.py\", line 760, in invoke\n",
            "    return __callback(*args, **kwargs)\n",
            "  File \"/usr/local/lib/python3.10/dist-packages/jupyter_book/cli/main.py\", line 244, in build\n",
            "    _error(\n",
            "  File \"/usr/local/lib/python3.10/dist-packages/jupyter_book/utils.py\", line 48, in _error\n",
            "    raise kind(box)\n",
            "RuntimeError: \n",
            "\u001b[91m===============================================================================\u001b[0m\n",
            "\n",
            "The Table of Contents file is malformed: doc validation @ '//chapters/3/': 'docname' must be <class 'str'> (got None that is a <class 'NoneType'>).\n",
            "You may need to migrate from the old format, using:\n",
            "\n",
            "\tjupyter-book toc migrate /content/drive/MyDrive/Pendata/tugas/_toc.yml -o /content/drive/MyDrive/Pendata/tugas/_toc.yml\n",
            "\n",
            "\u001b[91m===============================================================================\u001b[0m\n",
            "\n"
          ]
        }
      ]
    }
  ]
}